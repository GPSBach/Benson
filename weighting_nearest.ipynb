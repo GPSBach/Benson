{
 "cells": [
  {
   "cell_type": "code",
   "execution_count": 42,
   "metadata": {},
   "outputs": [],
   "source": [
    "\"\"\"\n",
    "Set Options\n",
    "\"\"\"\n",
    "\n",
    "# import libraries\n",
    "import pandas as pd\n",
    "import numpy as np\n",
    "import os\n",
    "import glob\n",
    "import matplotlib.pyplot as plt\n",
    "import matplotlib\n",
    "from datetime import datetime\n",
    "import pickle as pkl\n",
    "import geopy.distance\n",
    "import operator\n",
    "\n",
    "# configuration options\n",
    "%matplotlib inline\n",
    "matplotlib.style.use(\"seaborn-muted\")\n",
    "pd.set_option('display.max_columns', None)\n",
    "pd.set_option('display.max_rows', 100)"
   ]
  },
  {
   "cell_type": "code",
   "execution_count": 43,
   "metadata": {},
   "outputs": [],
   "source": [
    "\"\"\"\n",
    "import data files\n",
    "\"\"\"\n",
    "\n",
    "# load station flux datafile\n",
    "with open(\"./data/fluxsum_locations.pkl\", 'rb') as picklefile: \n",
    "    flux = pkl.load(picklefile)\n",
    "    \n",
    "# load station locations\n",
    "with open(\"./data/income.pkl\", 'rb') as picklefile: \n",
    "    income = pkl.load(picklefile)"
   ]
  },
  {
   "cell_type": "code",
   "execution_count": 44,
   "metadata": {},
   "outputs": [],
   "source": [
    "\"\"\"\n",
    "assign nearest income data to each station\n",
    "\"\"\"\n",
    "\n",
    "bling_station = []\n",
    "for f_index, f_row in flux.iterrows():\n",
    "    dist = []\n",
    "    bling = []\n",
    "    for i_index, i_row in income.iterrows():\n",
    "        if i_row['MEDIAN'] > 10:\n",
    "            dist.append(geopy.distance.vincenty([f_row['LAT'],f_row['LON']],[i_row['LAT'],i_row['LON']]).m)\n",
    "            bling.append(i_row['MEDIAN'])\n",
    "    dist_index, dist_value = min(enumerate(dist), key=operator.itemgetter(1))\n",
    "    bling_station.append(bling[dist_index])"
   ]
  },
  {
   "cell_type": "code",
   "execution_count": 45,
   "metadata": {},
   "outputs": [],
   "source": [
    "\"\"\"\n",
    "modify dataframe and save\n",
    "\"\"\"\n",
    "# modify data structure\n",
    "flux[\"INCOME\"]=bling_station \n",
    "\n",
    "# save\n",
    "flux.to_csv('./data/flux_income_nearest.csv')\n",
    "\n",
    "with open('./data/flux_income_nearest.pkl', 'wb') as picklefile:\n",
    "    pkl.dump(flux, picklefile)"
   ]
  },
  {
   "cell_type": "code",
   "execution_count": null,
   "metadata": {},
   "outputs": [],
   "source": []
  }
 ],
 "metadata": {
  "kernelspec": {
   "display_name": "Python 3",
   "language": "python",
   "name": "python3"
  },
  "language_info": {
   "codemirror_mode": {
    "name": "ipython",
    "version": 3
   },
   "file_extension": ".py",
   "mimetype": "text/x-python",
   "name": "python",
   "nbconvert_exporter": "python",
   "pygments_lexer": "ipython3",
   "version": "3.6.6"
  },
  "toc": {
   "base_numbering": 1,
   "nav_menu": {},
   "number_sections": true,
   "sideBar": true,
   "skip_h1_title": false,
   "title_cell": "Table of Contents",
   "title_sidebar": "Contents",
   "toc_cell": false,
   "toc_position": {},
   "toc_section_display": true,
   "toc_window_display": false
  },
  "varInspector": {
   "cols": {
    "lenName": 16,
    "lenType": 16,
    "lenVar": 40
   },
   "kernels_config": {
    "python": {
     "delete_cmd_postfix": "",
     "delete_cmd_prefix": "del ",
     "library": "var_list.py",
     "varRefreshCmd": "print(var_dic_list())"
    },
    "r": {
     "delete_cmd_postfix": ") ",
     "delete_cmd_prefix": "rm(",
     "library": "var_list.r",
     "varRefreshCmd": "cat(var_dic_list()) "
    }
   },
   "types_to_exclude": [
    "module",
    "function",
    "builtin_function_or_method",
    "instance",
    "_Feature"
   ],
   "window_display": false
  }
 },
 "nbformat": 4,
 "nbformat_minor": 2
}
