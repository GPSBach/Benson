{
 "cells": [
  {
   "cell_type": "code",
   "execution_count": 42,
   "metadata": {},
   "outputs": [],
   "source": [
    "\"\"\"\n",
    "Set Options\n",
    "\"\"\"\n",
    "\n",
    "# import libraries\n",
    "import pandas as pd\n",
    "import numpy as np\n",
    "import os\n",
    "import glob\n",
    "import matplotlib.pyplot as plt\n",
    "import matplotlib\n",
    "from datetime import datetime\n",
    "import pickle as pkl\n",
    "import geopy.distance\n",
    "import operator\n",
    "\n",
    "# configuration options\n",
    "%matplotlib inline\n",
    "matplotlib.style.use(\"seaborn-muted\")\n",
    "pd.set_option('display.max_columns', None)\n",
    "pd.set_option('display.max_rows', 100)"
   ]
  },
  {
   "cell_type": "code",
   "execution_count": 43,
   "metadata": {},
   "outputs": [],
   "source": [
    "\"\"\"\n",
    "import data files\n",
    "\"\"\"\n",
    "\n",
    "# load station flux datafile\n",
    "with open(\"./data/fluxsum_locations.pkl\", 'rb') as picklefile: \n",
    "    flux = pkl.load(picklefile)\n",
    "    \n",
    "# load station locations\n",
    "with open(\"./data/income.pkl\", 'rb') as picklefile: \n",
    "    income = pkl.load(picklefile)"
   ]
  },
  {
   "cell_type": "code",
   "execution_count": 44,
   "metadata": {},
   "outputs": [],
   "source": [
    "\"\"\"\n",
    "assign nearest income data to each station\n",
    "\"\"\"\n",
    "\n",
    "bling_station = []\n",
    "for f_index, f_row in flux.iterrows():\n",
    "    dist = []\n",
    "    bling = []\n",
    "    for i_index, i_row in income.iterrows():\n",
    "        if i_row['MEDIAN'] > 10:\n",
    "            dist.append(geopy.distance.vincenty([f_row['LAT'],f_row['LON']],[i_row['LAT'],i_row['LON']]).m)\n",
    "            bling.append(i_row['MEDIAN'])\n",
    "    dist_index, dist_value = min(enumerate(dist), key=operator.itemgetter(1))\n",
    "    bling_station.append(bling[dist_index])"
   ]
  },
  {
   "cell_type": "code",
   "execution_count": 45,
   "metadata": {},
   "outputs": [],
   "source": [
    "\"\"\"\n",
    "modify dataframe and save\n",
    "\"\"\"\n",
    "# modify data structure\n",
    "flux[\"INCOME\"]=bling_station \n",
    "\n",
    "# save\n",
    "flux.to_csv('./data/flux_income_nearest.csv')\n",
    "\n",
    "with open('./data/flux_income_nearest.pkl', 'wb') as picklefile:\n",
    "    pkl.dump(flux, picklefile)"
   ]
  },
  {
   "cell_type": "code",
   "execution_count": 47,
   "metadata": {},
   "outputs": [
    {
     "data": {
      "text/html": [
       "<div>\n",
       "<style scoped>\n",
       "    .dataframe tbody tr th:only-of-type {\n",
       "        vertical-align: middle;\n",
       "    }\n",
       "\n",
       "    .dataframe tbody tr th {\n",
       "        vertical-align: top;\n",
       "    }\n",
       "\n",
       "    .dataframe thead th {\n",
       "        text-align: right;\n",
       "    }\n",
       "</style>\n",
       "<table border=\"1\" class=\"dataframe\">\n",
       "  <thead>\n",
       "    <tr style=\"text-align: right;\">\n",
       "      <th></th>\n",
       "      <th>STATION</th>\n",
       "      <th>ENTRY_SUM</th>\n",
       "      <th>EXIT_SUM</th>\n",
       "      <th>LAT</th>\n",
       "      <th>LON</th>\n",
       "      <th>INCOME</th>\n",
       "    </tr>\n",
       "  </thead>\n",
       "  <tbody>\n",
       "    <tr>\n",
       "      <th>0</th>\n",
       "      <td>34 ST-PENN STA</td>\n",
       "      <td>10701055.0</td>\n",
       "      <td>7978101.0</td>\n",
       "      <td>40.752287</td>\n",
       "      <td>-73.993391</td>\n",
       "      <td>30117.0</td>\n",
       "    </tr>\n",
       "    <tr>\n",
       "      <th>1</th>\n",
       "      <td>GRD CNTRL-42 ST</td>\n",
       "      <td>8930354.0</td>\n",
       "      <td>7929180.0</td>\n",
       "      <td>40.751431</td>\n",
       "      <td>-73.976041</td>\n",
       "      <td>300000.0</td>\n",
       "    </tr>\n",
       "    <tr>\n",
       "      <th>2</th>\n",
       "      <td>TIMES SQ-42 ST</td>\n",
       "      <td>7827994.0</td>\n",
       "      <td>7341618.0</td>\n",
       "      <td>40.755983</td>\n",
       "      <td>-73.986229</td>\n",
       "      <td>132578.0</td>\n",
       "    </tr>\n",
       "    <tr>\n",
       "      <th>3</th>\n",
       "      <td>14 ST-UNION SQ</td>\n",
       "      <td>8497203.0</td>\n",
       "      <td>6969379.0</td>\n",
       "      <td>40.734673</td>\n",
       "      <td>-73.989951</td>\n",
       "      <td>100393.0</td>\n",
       "    </tr>\n",
       "    <tr>\n",
       "      <th>4</th>\n",
       "      <td>34 ST-HERALD SQ</td>\n",
       "      <td>9115976.0</td>\n",
       "      <td>6261677.0</td>\n",
       "      <td>40.750373</td>\n",
       "      <td>-73.991057</td>\n",
       "      <td>151229.0</td>\n",
       "    </tr>\n",
       "  </tbody>\n",
       "</table>\n",
       "</div>"
      ],
      "text/plain": [
       "           STATION   ENTRY_SUM   EXIT_SUM        LAT        LON    INCOME\n",
       "0   34 ST-PENN STA  10701055.0  7978101.0  40.752287 -73.993391   30117.0\n",
       "1  GRD CNTRL-42 ST   8930354.0  7929180.0  40.751431 -73.976041  300000.0\n",
       "2   TIMES SQ-42 ST   7827994.0  7341618.0  40.755983 -73.986229  132578.0\n",
       "3   14 ST-UNION SQ   8497203.0  6969379.0  40.734673 -73.989951  100393.0\n",
       "4  34 ST-HERALD SQ   9115976.0  6261677.0  40.750373 -73.991057  151229.0"
      ]
     },
     "execution_count": 47,
     "metadata": {},
     "output_type": "execute_result"
    }
   ],
   "source": [
    "flux.head()"
   ]
  }
 ],
 "metadata": {
  "kernelspec": {
   "display_name": "Python 3",
   "language": "python",
   "name": "python3"
  },
  "language_info": {
   "codemirror_mode": {
    "name": "ipython",
    "version": 3
   },
   "file_extension": ".py",
   "mimetype": "text/x-python",
   "name": "python",
   "nbconvert_exporter": "python",
   "pygments_lexer": "ipython3",
   "version": "3.6.6"
  },
  "toc": {
   "base_numbering": 1,
   "nav_menu": {},
   "number_sections": true,
   "sideBar": true,
   "skip_h1_title": false,
   "title_cell": "Table of Contents",
   "title_sidebar": "Contents",
   "toc_cell": false,
   "toc_position": {},
   "toc_section_display": true,
   "toc_window_display": false
  },
  "varInspector": {
   "cols": {
    "lenName": 16,
    "lenType": 16,
    "lenVar": 40
   },
   "kernels_config": {
    "python": {
     "delete_cmd_postfix": "",
     "delete_cmd_prefix": "del ",
     "library": "var_list.py",
     "varRefreshCmd": "print(var_dic_list())"
    },
    "r": {
     "delete_cmd_postfix": ") ",
     "delete_cmd_prefix": "rm(",
     "library": "var_list.r",
     "varRefreshCmd": "cat(var_dic_list()) "
    }
   },
   "types_to_exclude": [
    "module",
    "function",
    "builtin_function_or_method",
    "instance",
    "_Feature"
   ],
   "window_display": false
  }
 },
 "nbformat": 4,
 "nbformat_minor": 2
}
