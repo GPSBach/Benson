{
 "cells": [
  {
   "cell_type": "code",
   "execution_count": 4,
   "metadata": {},
   "outputs": [],
   "source": [
    "\"\"\"\n",
    "Set Options\n",
    "\"\"\"\n",
    "\n",
    "# import libraries\n",
    "import pandas as pd\n",
    "import numpy as np\n",
    "import os\n",
    "import glob\n",
    "import matplotlib.pyplot as plt\n",
    "import matplotlib\n",
    "from datetime import datetime\n",
    "import pickle as pkl\n",
    "import geopy as gp\n",
    "\n",
    "# configuration options\n",
    "%matplotlib inline\n",
    "matplotlib.style.use(\"seaborn-muted\")\n",
    "pd.set_option('display.max_columns', None)\n",
    "pd.set_option('display.max_rows', 10)"
   ]
  },
  {
   "cell_type": "code",
   "execution_count": 5,
   "metadata": {},
   "outputs": [],
   "source": [
    "\"\"\"\n",
    "import data files\n",
    "\"\"\"\n",
    "\n",
    "# load station flux datafile\n",
    "with open(\"./data/fluxsum_locations.pkl\", 'rb') as picklefile: \n",
    "    flux = pkl.load(picklefile)\n",
    "    \n",
    "# load station locations\n",
    "with open(\"./data/income.pkl\", 'rb') as picklefile: \n",
    "    income = pkl.load(picklefile)"
   ]
  },
  {
   "cell_type": "code",
   "execution_count": 11,
   "metadata": {},
   "outputs": [
    {
     "name": "stdout",
     "output_type": "stream",
     "text": [
      "40.752287000775894\n",
      "40.751431000286864\n",
      "40.755983000570076\n",
      "40.734673000996125\n",
      "40.75037300003949\n",
      "40.742954317826005\n",
      "40.75864100159815\n",
      "40.811071672994565\n",
      "40.757307998551504\n",
      "40.70941599925865\n",
      "40.76824700063689\n",
      "40.71817387697391\n",
      "40.75959999915012\n",
      "40.73822799969515\n",
      "40.71256392680817\n",
      "40.77949199820952\n",
      "40.6413616662838\n",
      "40.74721499918219\n",
      "40.754184001312545\n",
      "40.79161879767014\n",
      "40.762708855394564\n",
      "40.66624469001985\n",
      "40.74653969115889\n",
      "40.71547800011327\n",
      "40.71717399858899\n",
      "40.70755700086603\n",
      "40.77845300068614\n",
      "40.824766360871905\n",
      "40.76245599925997\n",
      "40.68442016526762\n",
      "40.73097497580066\n",
      "40.77845300068614\n",
      "40.71157600064823\n",
      "40.725296998738045\n",
      "40.76008683231326\n",
      "40.70206737621188\n",
      "40.799446000334825\n",
      "40.77344000052039\n",
      "40.608638645396006\n",
      "40.76456552501829\n",
      "40.692470636847084\n",
      "40.629741666886915\n",
      "40.700382424235\n",
      "40.84950499974065\n",
      "40.71868074219453\n",
      "40.719433\n",
      "40.74458699983993\n",
      "40.7986290002001\n",
      "40.74458699983993\n",
      "40.74914499948836\n"
     ]
    }
   ],
   "source": [
    "\"\"\"\n",
    "weight station fluxes by income\n",
    "\"\"\"\n",
    "\n",
    "#for index, row in flux.iterrows():\n",
    "#"
   ]
  },
  {
   "cell_type": "code",
   "execution_count": 10,
   "metadata": {},
   "outputs": [
    {
     "data": {
      "text/plain": [
       "Index(['STATION', 'ENTRY_SUM', 'EXIT_SUM', 'LAT', 'LON'], dtype='object')"
      ]
     },
     "execution_count": 10,
     "metadata": {},
     "output_type": "execute_result"
    }
   ],
   "source": [
    "flux.columns"
   ]
  },
  {
   "cell_type": "code",
   "execution_count": null,
   "metadata": {},
   "outputs": [],
   "source": []
  }
 ],
 "metadata": {
  "kernelspec": {
   "display_name": "Python 3",
   "language": "python",
   "name": "python3"
  },
  "language_info": {
   "codemirror_mode": {
    "name": "ipython",
    "version": 3
   },
   "file_extension": ".py",
   "mimetype": "text/x-python",
   "name": "python",
   "nbconvert_exporter": "python",
   "pygments_lexer": "ipython3",
   "version": "3.6.6"
  },
  "toc": {
   "base_numbering": 1,
   "nav_menu": {},
   "number_sections": true,
   "sideBar": true,
   "skip_h1_title": false,
   "title_cell": "Table of Contents",
   "title_sidebar": "Contents",
   "toc_cell": false,
   "toc_position": {},
   "toc_section_display": true,
   "toc_window_display": false
  },
  "varInspector": {
   "cols": {
    "lenName": 16,
    "lenType": 16,
    "lenVar": 40
   },
   "kernels_config": {
    "python": {
     "delete_cmd_postfix": "",
     "delete_cmd_prefix": "del ",
     "library": "var_list.py",
     "varRefreshCmd": "print(var_dic_list())"
    },
    "r": {
     "delete_cmd_postfix": ") ",
     "delete_cmd_prefix": "rm(",
     "library": "var_list.r",
     "varRefreshCmd": "cat(var_dic_list()) "
    }
   },
   "types_to_exclude": [
    "module",
    "function",
    "builtin_function_or_method",
    "instance",
    "_Feature"
   ],
   "window_display": false
  }
 },
 "nbformat": 4,
 "nbformat_minor": 2
}
