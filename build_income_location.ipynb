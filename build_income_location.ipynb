{
 "cells": [
  {
   "cell_type": "code",
   "execution_count": 51,
   "metadata": {},
   "outputs": [],
   "source": [
    "\"\"\"\n",
    "Set Options\n",
    "\"\"\"\n",
    "\n",
    "# import libraries\n",
    "import pandas as pd\n",
    "import numpy as np\n",
    "import os\n",
    "import glob\n",
    "import matplotlib.pyplot as plt\n",
    "import matplotlib\n",
    "from datetime import datetime\n",
    "import pickle as pkl\n",
    "\n",
    "# configuration options\n",
    "%matplotlib inline\n",
    "matplotlib.style.use(\"seaborn-muted\")\n",
    "pd.set_option('display.max_columns', None)\n",
    "pd.set_option('display.max_rows', 20)"
   ]
  },
  {
   "cell_type": "code",
   "execution_count": 52,
   "metadata": {},
   "outputs": [],
   "source": [
    "\"\"\"\n",
    "read in and parse national income data\n",
    "\"\"\"\n",
    "# read data\n",
    "income = pd.read_csv('./data/income_national.csv', encoding = \"ISO-8859-1\")\n",
    "\n",
    "# sort to NY and NY\n",
    "income = income[(income['State_ab']=='NY') | (income['State_ab']=='NJ')]\n",
    "income.reset_index()\n",
    "\n",
    "# remove spurious data\n",
    "income = income.drop(['id', 'State_Code', 'State_Name', 'State_ab', 'County', 'City', 'Place',\n",
    "       'Type', 'Primary', 'Zip_Code', 'Area_Code', 'ALand', 'AWater', 'sum_w'], axis = 1)\n",
    "\n",
    "# change column titles to caps\n",
    "income.rename(index=str, columns={\"Lat\":\"LAT\"},inplace=True)\n",
    "income.rename(index=str, columns={\"Lon\":\"LON\"},inplace=True)\n",
    "income.rename(index=str, columns={\"Mean\":\"INCOME\"},inplace=True)\n",
    "income.rename(index=str, columns={\"Median\":\"MEDIAN\"},inplace=True)\n",
    "income.rename(index=str, columns={\"Stdev\":\"STDEV\"},inplace=True)"
   ]
  },
  {
   "cell_type": "code",
   "execution_count": 53,
   "metadata": {},
   "outputs": [],
   "source": [
    "\"\"\"\n",
    "write to save file\n",
    "\"\"\"\n",
    "\n",
    "income.to_csv('./data/income_locations.csv')\n",
    "\n",
    "with open('./data/income.pkl', 'wb') as picklefile:\n",
    "    pkl.dump(income, picklefile)"
   ]
  },
  {
   "cell_type": "code",
   "execution_count": 54,
   "metadata": {},
   "outputs": [
    {
     "data": {
      "text/html": [
       "<div>\n",
       "<style scoped>\n",
       "    .dataframe tbody tr th:only-of-type {\n",
       "        vertical-align: middle;\n",
       "    }\n",
       "\n",
       "    .dataframe tbody tr th {\n",
       "        vertical-align: top;\n",
       "    }\n",
       "\n",
       "    .dataframe thead th {\n",
       "        text-align: right;\n",
       "    }\n",
       "</style>\n",
       "<table border=\"1\" class=\"dataframe\">\n",
       "  <thead>\n",
       "    <tr style=\"text-align: right;\">\n",
       "      <th></th>\n",
       "      <th>LAT</th>\n",
       "      <th>LON</th>\n",
       "      <th>INCOME</th>\n",
       "      <th>MEDIAN</th>\n",
       "      <th>STDEV</th>\n",
       "    </tr>\n",
       "  </thead>\n",
       "  <tbody>\n",
       "    <tr>\n",
       "      <th>17713</th>\n",
       "      <td>40.470151</td>\n",
       "      <td>-74.534049</td>\n",
       "      <td>118267</td>\n",
       "      <td>116942</td>\n",
       "      <td>64262</td>\n",
       "    </tr>\n",
       "    <tr>\n",
       "      <th>17714</th>\n",
       "      <td>40.574413</td>\n",
       "      <td>-74.414800</td>\n",
       "      <td>98703</td>\n",
       "      <td>88011</td>\n",
       "      <td>63572</td>\n",
       "    </tr>\n",
       "    <tr>\n",
       "      <th>17715</th>\n",
       "      <td>39.041691</td>\n",
       "      <td>-74.768837</td>\n",
       "      <td>103736</td>\n",
       "      <td>79443</td>\n",
       "      <td>81992</td>\n",
       "    </tr>\n",
       "    <tr>\n",
       "      <th>17716</th>\n",
       "      <td>40.918309</td>\n",
       "      <td>-73.950523</td>\n",
       "      <td>146397</td>\n",
       "      <td>146279</td>\n",
       "      <td>86661</td>\n",
       "    </tr>\n",
       "    <tr>\n",
       "      <th>17717</th>\n",
       "      <td>40.447490</td>\n",
       "      <td>-74.170046</td>\n",
       "      <td>78814</td>\n",
       "      <td>70364</td>\n",
       "      <td>53062</td>\n",
       "    </tr>\n",
       "  </tbody>\n",
       "</table>\n",
       "</div>"
      ],
      "text/plain": [
       "             LAT        LON  INCOME  MEDIAN  STDEV\n",
       "17713  40.470151 -74.534049  118267  116942  64262\n",
       "17714  40.574413 -74.414800   98703   88011  63572\n",
       "17715  39.041691 -74.768837  103736   79443  81992\n",
       "17716  40.918309 -73.950523  146397  146279  86661\n",
       "17717  40.447490 -74.170046   78814   70364  53062"
      ]
     },
     "execution_count": 54,
     "metadata": {},
     "output_type": "execute_result"
    }
   ],
   "source": []
  },
  {
   "cell_type": "code",
   "execution_count": null,
   "metadata": {},
   "outputs": [],
   "source": []
  }
 ],
 "metadata": {
  "kernelspec": {
   "display_name": "Python 3",
   "language": "python",
   "name": "python3"
  },
  "language_info": {
   "codemirror_mode": {
    "name": "ipython",
    "version": 3
   },
   "file_extension": ".py",
   "mimetype": "text/x-python",
   "name": "python",
   "nbconvert_exporter": "python",
   "pygments_lexer": "ipython3",
   "version": "3.6.6"
  },
  "toc": {
   "base_numbering": 1,
   "nav_menu": {},
   "number_sections": true,
   "sideBar": true,
   "skip_h1_title": false,
   "title_cell": "Table of Contents",
   "title_sidebar": "Contents",
   "toc_cell": false,
   "toc_position": {},
   "toc_section_display": true,
   "toc_window_display": false
  },
  "varInspector": {
   "cols": {
    "lenName": 16,
    "lenType": 16,
    "lenVar": 40
   },
   "kernels_config": {
    "python": {
     "delete_cmd_postfix": "",
     "delete_cmd_prefix": "del ",
     "library": "var_list.py",
     "varRefreshCmd": "print(var_dic_list())"
    },
    "r": {
     "delete_cmd_postfix": ") ",
     "delete_cmd_prefix": "rm(",
     "library": "var_list.r",
     "varRefreshCmd": "cat(var_dic_list()) "
    }
   },
   "types_to_exclude": [
    "module",
    "function",
    "builtin_function_or_method",
    "instance",
    "_Feature"
   ],
   "window_display": false
  }
 },
 "nbformat": 4,
 "nbformat_minor": 2
}
