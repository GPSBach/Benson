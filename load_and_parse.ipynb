{
 "cells": [
  {
   "cell_type": "markdown",
   "metadata": {},
   "source": [
    "Load in data from turnstile file"
   ]
  },
  {
   "cell_type": "code",
   "execution_count": 1,
   "metadata": {},
   "outputs": [],
   "source": [
    "\"\"\"\n",
    "Set Options\n",
    "\"\"\"\n",
    "\n",
    "# import libraries\n",
    "import pandas as pd\n",
    "import numpy as np\n",
    "import os\n",
    "import glob\n",
    "import matplotlib.pyplot as plt\n",
    "import matplotlib\n",
    "from datetime import datetime\n",
    "import pickle as pkl\n",
    "\n",
    "# configuration options\n",
    "%matplotlib inline\n",
    "matplotlib.style.use(\"seaborn-muted\")\n",
    "pd.set_option('display.max_columns', None)\n",
    "pd.set_option('display.max_rows', 50)"
   ]
  },
  {
   "cell_type": "code",
   "execution_count": 2,
   "metadata": {},
   "outputs": [],
   "source": [
    "\"\"\"\n",
    "load, parse, and initially sample data\n",
    "\"\"\"\n",
    "# load and concatanate sample data\n",
    "path = r'/Users/tbowling/ds/metis/working/Benson/data/'\n",
    "all_files = glob.glob(path + \"/*.txt\")\n",
    "df = pd.concat((pd.read_csv(f) for f in all_files))\n",
    "\n",
    "# convert weird style of control area name\n",
    "df.rename(index=str, columns={\"C/A\":\"CONTROL\"},inplace=True)\n",
    "\n",
    "# drop spurious data\n",
    "df = df.drop(['LINENAME','DIVISION'], axis=1)\n",
    "\n",
    "# filter out audits\n",
    "df = df[df.DESC == 'REGULAR']\n",
    "\n",
    "# strip spurious whitespace from column names\n",
    "df.columns = [column.strip() for column in df.columns]\n",
    "\n",
    "# convert time data into datetime objects\n",
    "df['TIMING'] = pd.to_datetime(df['DATE'] + ' ' + df['TIME'],format = '%m/%d/%Y %H:%M:%S' )"
   ]
  },
  {
   "cell_type": "code",
   "execution_count": 3,
   "metadata": {},
   "outputs": [],
   "source": [
    "\"\"\"\n",
    "Convert data to daily flux vs turnstile for entries\n",
    "\"\"\"\n",
    "\n",
    "# sort values\n",
    "df.sort_values([\"CONTROL\", \"UNIT\", \"SCP\", \"STATION\", \"TIMING\"], inplace=True, \\\n",
    "                          ascending=False)\n",
    "\n",
    "# get first each day\n",
    "daily_entries = df.groupby([\"CONTROL\", \"UNIT\", \"SCP\", \"STATION\", \"DATE\"])\\\n",
    ".ENTRIES.first().reset_index()\n",
    "\n",
    "# make columns for previous day's data\n",
    "daily_entries[[\"PREV_DATE\", \"PREV_ENTRIES\"]] = (daily_entries\n",
    "                                            .groupby([\"CONTROL\", \"UNIT\", \"SCP\", \"STATION\"])[\"DATE\", \"ENTRIES\"]\n",
    "                                            .transform(lambda grp: grp.shift(1)))\n",
    "# drop first column\n",
    "daily_entries.dropna(subset=[\"PREV_DATE\"], axis=0, inplace=True)\n",
    "\n",
    "# deal with negative data - from Lara's example\n",
    "def get_daily_counts_entries(row, max_counter):\n",
    "    counter = row[\"ENTRIES\"] - row[\"PREV_ENTRIES\"]\n",
    "    if counter < 0:\n",
    "        # Maybe counter is reversed?\n",
    "        counter = -counter\n",
    "    if counter > max_counter:\n",
    "        #print(row[\"ENTRIES\"], row[\"PREV_ENTRIES\"])\n",
    "        counter = min(row[\"ENTRIES\"], row[\"PREV_ENTRIES\"])\n",
    "        # if current entries is bad, use yesterday's count as proxy\n",
    "    if counter > max_counter:\n",
    "        # Check it again to make sure we are not giving a counter that's too big\n",
    "        return 0\n",
    "    return counter\n",
    "\n",
    "# If counter is > 1Million, then the counter might have been reset.  \n",
    "# Just set it to zero as different counters have different cycle limits\n",
    "daily_entries[\"ENTRY_FLUX\"] = daily_entries.apply(get_daily_counts_entries, axis=1, max_counter=1000000)"
   ]
  },
  {
   "cell_type": "code",
   "execution_count": 4,
   "metadata": {},
   "outputs": [],
   "source": [
    "\"\"\"\n",
    "Convert data to daily flux vs turnstile for entries\n",
    "\"\"\"\n",
    "\n",
    "# get first each day\n",
    "daily_exits = df.groupby([\"CONTROL\", \"UNIT\", \"SCP\", \"STATION\", \"DATE\"])\\\n",
    ".EXITS.first().reset_index()\n",
    "\n",
    "# make columns for previous day's data\n",
    "daily_exits[[\"PREV_DATE\", \"PREV_EXITS\"]] = (daily_exits\n",
    "                                            .groupby([\"CONTROL\", \"UNIT\", \"SCP\", \"STATION\"])[\"DATE\", \"EXITS\"]\n",
    "                                            .transform(lambda grp: grp.shift(1)))\n",
    "# drop first column\n",
    "daily_exits.dropna(subset=[\"PREV_DATE\"], axis=0, inplace=True)\n",
    "\n",
    "# deal with negative data - from Lara's example\n",
    "def get_daily_counts_exits(row, max_counter):\n",
    "    counter = row[\"EXITS\"] - row[\"PREV_EXITS\"]\n",
    "    if counter < 0:\n",
    "        # Maybe counter is reversed?\n",
    "        counter = -counter\n",
    "    if counter > max_counter:\n",
    "        #print(row[\"EXITS\"], row[\"PREV_EXITS\"])\n",
    "        counter = min(row[\"EXITS\"], row[\"PREV_EXITS\"])\n",
    "        # if current entries is bad, use yesterday's count as proxy\n",
    "    if counter > max_counter:\n",
    "        # Check it again to make sure we are not giving a counter that's too big\n",
    "        return 0\n",
    "    return counter\n",
    "\n",
    "# If counter is > 1Million, then the counter might have been reset.  \n",
    "# Just set it to zero as different counters have different cycle limits\n",
    "daily_exits[\"EXIT_FLUX\"] = daily_exits.apply(get_daily_counts_exits, axis=1, max_counter=1000000)"
   ]
  },
  {
   "cell_type": "code",
   "execution_count": 5,
   "metadata": {},
   "outputs": [],
   "source": [
    "\"\"\"\n",
    "merge entries and exits into single dataframe\n",
    "\"\"\"\n",
    "\n",
    "# drop duplicate data\n",
    "daily_entries.drop(['ENTRIES','PREV_ENTRIES','PREV_DATE'], axis=1, inplace=True)\n",
    "daily_exits.drop(['EXITS','PREV_EXITS','PREV_DATE'], axis=1, inplace=True)\n",
    "\n",
    "flux = pd.merge(daily_entries,daily_exits,on=['CONTROL','UNIT','SCP','STATION','DATE'])"
   ]
  },
  {
   "cell_type": "code",
   "execution_count": 6,
   "metadata": {},
   "outputs": [],
   "source": [
    "\"\"\"\n",
    "reconvert date into datetime object\n",
    "\"\"\"\n",
    "\n",
    "# convert time data into datetime objects\n",
    "flux['TIMING'] = pd.to_datetime(flux['DATE'],format = '%m/%d/%Y')\n",
    "flux.drop(['DATE'],axis=1,inplace=True)\n",
    "flux.rename(index=str, columns={\"TIMING\":\"DATE\"},inplace=True)"
   ]
  },
  {
   "cell_type": "code",
   "execution_count": null,
   "metadata": {},
   "outputs": [],
   "source": []
  },
  {
   "cell_type": "code",
   "execution_count": 7,
   "metadata": {},
   "outputs": [],
   "source": [
    "\"\"\"\n",
    "pickle output\n",
    "\"\"\"\n",
    "\n",
    "# write as binary ('wb')\n",
    "with open('./data/turnstile_data.pkl', 'wb') as picklefile:\n",
    "    pkl.dump(flux, picklefile)"
   ]
  }
 ],
 "metadata": {
  "kernelspec": {
   "display_name": "Python 3",
   "language": "python",
   "name": "python3"
  },
  "language_info": {
   "codemirror_mode": {
    "name": "ipython",
    "version": 3
   },
   "file_extension": ".py",
   "mimetype": "text/x-python",
   "name": "python",
   "nbconvert_exporter": "python",
   "pygments_lexer": "ipython3",
   "version": "3.6.6"
  }
 },
 "nbformat": 4,
 "nbformat_minor": 2
}
