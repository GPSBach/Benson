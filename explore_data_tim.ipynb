{
 "cells": [
  {
   "cell_type": "code",
   "execution_count": 1,
   "metadata": {},
   "outputs": [],
   "source": [
    "\"\"\"\n",
    "Set Options\n",
    "\"\"\"\n",
    "\n",
    "# import libraries\n",
    "import pandas as pd\n",
    "import numpy as np\n",
    "import os\n",
    "import glob\n",
    "import matplotlib.pyplot as plt\n",
    "import matplotlib\n",
    "from datetime import datetime\n",
    "import pickle as pkl\n",
    "\n",
    "# configuration options\n",
    "%matplotlib inline\n",
    "matplotlib.style.use(\"seaborn-muted\")\n",
    "pd.set_option('display.max_columns', None)\n",
    "pd.set_option('display.max_rows', 50)"
   ]
  },
  {
   "cell_type": "code",
   "execution_count": 2,
   "metadata": {},
   "outputs": [],
   "source": [
    "\"\"\"\n",
    "import pickle file\n",
    "\"\"\"\n",
    "with open(\"./data/turnstile_data.pkl\", 'rb') as picklefile: \n",
    "    flux = pkl.load(picklefile)"
   ]
  },
  {
   "cell_type": "code",
   "execution_count": 54,
   "metadata": {},
   "outputs": [
    {
     "data": {
      "text/plain": [
       "Index(['CONTROL', 'UNIT', 'SCP', 'STATION', 'ENTRY_FLUX', 'EXIT_FLUX', 'DATE'], dtype='object')"
      ]
     },
     "execution_count": 54,
     "metadata": {},
     "output_type": "execute_result"
    }
   ],
   "source": [
    "flux.columns"
   ]
  },
  {
   "cell_type": "code",
   "execution_count": 12,
   "metadata": {},
   "outputs": [
    {
     "data": {
      "text/plain": [
       "array(['207 ST', '75 ST-ELDERTS', 'MARBLE HILL-225', '50 ST',\n",
       "       'GROVE STREET', '5 AV/59 ST', '149/GRAND CONC', '86 ST-2 AVE',\n",
       "       'CORTLANDT ST', 'HOUSTON ST', 'PATH NEW WTC', 'EXCHANGE PLACE',\n",
       "       'JFK JAMAICA CT1', 'CHURCH AV', 'PRINCE ST', 'LACKAWANNA',\n",
       "       '168 ST', 'NEWARK HW BMEBE', '34 ST-HERALD SQ', 'NEWKIRK AV',\n",
       "       'NEWARK C', 'NEWARK HM HE', 'AVENUE H', 'THIRTY THIRD ST',\n",
       "       'HOWARD BCH JFK', '47-50 STS ROCK', 'CITY / BUS', 'FAR ROCKAWAY',\n",
       "       'HARRISON', '14TH STREET', 'TREMONT AV', 'JOURNAL SQUARE', '25 AV',\n",
       "       'GRD CNTRL-42 ST', 'JAMAICA CENTER', '59 ST COLUMBUS',\n",
       "       '34 ST-PENN STA', 'QUEENSBORO PLZ', 'W 4 ST-WASH SQ',\n",
       "       '14 ST-UNION SQ', '57 ST-7 AV', '8 AV', '72 ST', 'PARKCHESTER',\n",
       "       '66 ST-LINCOLN', 'PAVONIA/NEWPORT', 'WOODHAVEN BLVD', '1 AV',\n",
       "       'JKSN HT-ROOSVLT', 'BOROUGH HALL', 'BEDFORD AV', '96 ST',\n",
       "       'TIMES SQ-42 ST', 'METROPOLITAN AV', '42 ST-PORT AUTH',\n",
       "       'FLUSHING-MAIN', 'RIT-MANHATTAN', '72 ST-2 AVE', '30 AV',\n",
       "       'CANAL ST', '125 ST', '14 ST', 'CHAMBERS ST', '23 ST',\n",
       "       '61 ST WOODSIDE', '36 AV', '8 ST-NYU', 'JUNCTION BLVD', 'YORK ST',\n",
       "       '3 AV-149 ST', 'MORGAN AV', '86 ST', 'FOREST HILLS 71',\n",
       "       'CHRISTOPHER ST', '145 ST', '68ST-HUNTER CO', 'ASTORIA DITMARS',\n",
       "       '116 ST-COLUMBIA', '21 ST-QNSBRIDGE', 'SPRING ST', 'UTICA AV',\n",
       "       'ELMHURST AV', 'PROSPECT AV', '81 ST-MUSEUM', '2 AV', '33 ST',\n",
       "       'MARCY AV', 'DEKALB AV', 'NEW UTRECHT AV', 'GATES AV', '175 ST',\n",
       "       '103 ST', 'LEXINGTON AV/53', 'METS-WILLETS PT', '167 ST',\n",
       "       'GRAND ST', 'BAY PKWY', '96 ST-2 AVE', '137 ST CITY COL',\n",
       "       'KEW GARDENS', '103 ST-CORONA', '59 ST', 'BERGEN ST',\n",
       "       'NOSTRAND AV', '77 ST', '157 ST', 'LORIMER ST', 'SIMPSON ST',\n",
       "       '7 AV', '181 ST', 'BROADWAY JCT', 'FULTON ST', '231 ST',\n",
       "       \"B'WAY-LAFAYETTE\", 'HIGH ST', 'HALSEY ST', 'LEXINGTON AV/63',\n",
       "       'JAY ST-METROTEC', 'GRAND-NEWTOWN', 'FORDHAM RD', 'GRAHAM AV',\n",
       "       'THIRTY ST', 'FLATBUSH AV-B.C', '28 ST', 'FRANKLIN AV',\n",
       "       'HOYT-SCHER', 'SUTPHIN-ARCHER', 'ATL AV-BARCLAY',\n",
       "       '161/YANKEE STAD', 'CATHEDRAL PKWY', 'ROOSEVELT ISLND',\n",
       "       'MYRTLE AV', 'RECTOR ST', 'CROWN HTS-UTICA', '42 ST-BRYANT PK',\n",
       "       '36 ST', 'ASTORIA BLVD', 'CANARSIE-ROCKAW', 'KINGSBRIDGE RD',\n",
       "       'WINTHROP ST', '116 ST', '40 ST LOWERY ST', '82 ST-JACKSON H',\n",
       "       '110 ST', '45 ST', 'DELANCEY/ESSEX', 'MYRTLE-WYCKOFF', 'GRANT AV',\n",
       "       'JAMAICA 179 ST', '49 ST', 'BROOKLYN BRIDGE', 'BURNSIDE AV',\n",
       "       'CARROLL ST', 'INWOOD-207 ST', 'V.CORTLANDT PK', 'BOWLING GREEN',\n",
       "       'STEINWAY ST', 'SARATOGA AV', 'VERNON-JACKSON', 'CLINTON-WASH AV',\n",
       "       '63 DR-REGO PARK', 'ASTOR PL', 'NEWKIRK PLAZA', 'WHITEHALL S-FRY',\n",
       "       'EAST BROADWAY', 'SUTTER AV', 'BRIGHTON BEACH', 'MONTROSE AV',\n",
       "       'COURT SQ-23 ST', '6 AV', '90 ST-ELMHURST', 'PELHAM BAY PARK',\n",
       "       'PROSPECT PARK', '135 ST', 'KINGS HWY', '170 ST', 'WALL ST',\n",
       "       'DYCKMAN ST', '5 AV/53 ST', '191 ST', '18 AV', '3 AV 138 ST',\n",
       "       'WORLD TRADE CTR', 'CONEY IS-STILLW', 'FLUSHING AV',\n",
       "       'SHEEPSHEAD BAY', '18 ST', 'EUCLID AV', 'BROADWAY', 'COURT SQ',\n",
       "       '111 ST', 'KINGSTON-THROOP', 'FT HAMILTON PKY', 'BLEECKER ST',\n",
       "       'NORTHERN BLVD', 'NASSAU AV', 'BEDFORD PK BLVD', 'BAY RIDGE AV',\n",
       "       '5 AVE', '174 ST', '79 ST', 'PARKSIDE AV', 'TWENTY THIRD ST',\n",
       "       'STERLING ST', 'AVENUE M', '20 AV', '46 ST BLISS ST',\n",
       "       'JEFFERSON ST', '33 ST-RAWSON ST', '53 ST', '52 ST',\n",
       "       'CORTELYOU RD', 'CRESCENT ST', 'NEW LOTS', 'BEDFORD-NOSTRAN',\n",
       "       'WESTCHESTER SQ', 'GUN HILL RD', 'ELDER AV', 'CENTRAL PK N110',\n",
       "       'BRIARWOOD', 'PELHAM PKWY', 'GRAND ARMY PLAZ', 'CLASSON AV',\n",
       "       '9TH STREET', 'KOSCIUSZKO ST', 'CLARK ST', 'BOWERY', 'WOODLAWN',\n",
       "       '3 AV', 'UNION ST', 'KINGSTON AV', 'MORISN AV/SNDVW', 'SMITH-9 ST',\n",
       "       'FRANKLIN ST', 'E 180 ST', 'AVENUE U', 'PRESIDENT ST',\n",
       "       '182-183 STS', '233 ST', 'CASTLE HILL AV', 'WILSON AV',\n",
       "       'HARLEM 148 ST', 'NORWOOD 205 ST', 'HUNTS POINT AV', 'RALPH AV',\n",
       "       'FOREST AVE', 'PARK PLACE', 'NEWARK BM BW', 'ALLERTON AV',\n",
       "       '190 ST', 'ST LAWRENCE AV', '183 ST', 'SUTTER AV-RUTLD', '67 AV',\n",
       "       '46 ST', 'PATH WTC 2', 'JAMAICA VAN WK', '51 ST',\n",
       "       'OZONE PK LEFFRT', 'NEVINS ST', '25 ST', '74 ST-BROADWAY',\n",
       "       'SOUTH FERRY', 'MOSHOLU PKWY', '4AV-9 ST', 'JACKSON AV',\n",
       "       'KNICKERBOCKER', 'CITY HALL', '176 ST', 'WEST FARMS SQ',\n",
       "       'HEWES ST', 'AVENUE X', 'BAYCHESTER AV', 'MT EDEN AV',\n",
       "       'BEVERLY RD', 'MYRTLE-WILLOUGH', 'HOYT ST', '15 ST-PROSPECT',\n",
       "       'BROOK AV', 'BEACH 90 ST', '238 ST', 'FREEMAN ST', 'NECK RD',\n",
       "       'QUEENS PLAZA', '225 ST', 'BEVERLEY ROAD', 'LIBERTY AV',\n",
       "       'RIT-ROOSEVELT', 'GREENPOINT AV', 'INTERVALE AV', 'CLEVELAND ST',\n",
       "       'PENNSYLVANIA AV', 'W 8 ST-AQUARIUM', 'ALABAMA AV', '155 ST',\n",
       "       'CENTRAL AV', '34 ST-HUDSON YD', 'LIVONIA AV', '71 ST', '75 AV',\n",
       "       '169 ST', 'LAFAYETTE AV', 'PARSONS BLVD', 'BOTANIC GARDEN',\n",
       "       'EASTCHSTER/DYRE', 'BRONX PARK EAST', 'ST. GEORGE', 'ROCKAWAY AV',\n",
       "       'DITMAS AV', 'BROAD ST', 'ROCKAWAY BLVD', 'AQUEDUCT RACETR',\n",
       "       'NEREID AV', '138/GRAND CONC', 'BAY RIDGE-95 ST', 'NEW LOTS AV',\n",
       "       'VAN SICLEN AV', 'EAST 105 ST', 'WAKEFIELD/241', 'CHAUNCEY ST',\n",
       "       '9 AV', '65 ST', '21 ST', '219 ST', 'VAN SICLEN AVE',\n",
       "       '85 ST-FOREST PK', 'E 149 ST', 'HUNTERS PT AV', 'BUHRE AV',\n",
       "       'FRESH POND RD', 'NORWOOD AV', '88 ST', 'MORRIS PARK',\n",
       "       'CYPRESS AV', 'BURKE AV', '80 ST', 'BAY 50 ST', 'ZEREGA AV',\n",
       "       'SHEPHERD AV', 'BUSHWICK AV', '215 ST', 'EASTN PKWY-MUSM',\n",
       "       'LONGWOOD AV', '4 AV-9 ST', '55 ST', 'AVENUE P', 'NEPTUNE AV',\n",
       "       'ROCKAWAY PARK B', 'AVENUE J', '104 ST', '69 ST', 'WHITLOCK AV',\n",
       "       'SENECA AVE', 'OCEAN PKWY', 'BEACH 67 ST', 'AVENUE N',\n",
       "       'ATLANTIC AV', 'SUTPHIN BLVD', 'CYPRESS HILLS', 'BEACH 25 ST',\n",
       "       'BEACH 60 ST', 'BEACH 105 ST', 'JUNIUS ST', 'MIDDLETOWN RD',\n",
       "       'AVENUE I', '121 ST', \"E 143/ST MARY'S\", 'BEACH 98 ST',\n",
       "       'BEACH 44 ST', 'BEACH 36 ST', 'AQUEDUCT N.COND', 'BROAD CHANNEL',\n",
       "       'TOMPKINSVILLE', 'ORCHARD BEACH'], dtype=object)"
      ]
     },
     "execution_count": 12,
     "metadata": {},
     "output_type": "execute_result"
    }
   ],
   "source": [
    "flux.sort_values(\"ENTRY_FLUX\",ascending=False).STATION.unique()"
   ]
  },
  {
   "cell_type": "code",
   "execution_count": 17,
   "metadata": {},
   "outputs": [
    {
     "data": {
      "text/plain": [
       "1654.75"
      ]
     },
     "execution_count": 17,
     "metadata": {},
     "output_type": "execute_result"
    }
   ],
   "source": [
    "flux[flux['STATION']=='207 ST'].ENTRY_FLUX.quantile(.75)"
   ]
  },
  {
   "cell_type": "code",
   "execution_count": 66,
   "metadata": {},
   "outputs": [],
   "source": [
    "# Computing IQR\n",
    "\n",
    "factor = 1.5\n",
    "\n",
    "# filter for ENTRY outliers\n",
    "filtered_entry = pd.DataFrame(columns=flux.columns)\n",
    "\n",
    "# loop through stations\n",
    "for station in flux.STATION.unique():\n",
    "\n",
    "    current_station = flux[flux['STATION']==station]\n",
    "\n",
    "    # quantile values for current station\n",
    "    Q1 = current_station.ENTRY_FLUX.quantile(0.25)\n",
    "    Q3 = current_station.ENTRY_FLUX.quantile(0.75)\n",
    "    IQR = Q3 - Q1\n",
    "\n",
    "    # Filtering Values between Q1-1.5IQR and Q3+1.5IQR\n",
    "    mask = current_station.ENTRY_FLUX.between(Q1-IQR*factor, Q3+IQR*factor, inclusive=True)\n",
    "    \n",
    "    #pd.concat([filtered,current_station[mask]],axis=1)\n",
    "    #filtered.concat(current_station[mask],ignore_index=True)\n",
    "    filtered_entry = filtered_entry.append(current_station[mask])\n",
    "    \n",
    "# filter for EXIT outliers\n",
    "filtered = pd.DataFrame(columns=flux.columns)\n",
    "\n",
    "# loop through stations\n",
    "for station in filtered_entry.STATION.unique():\n",
    "\n",
    "    current_station = filtered_entry[filtered_entry['STATION']==station]\n",
    "\n",
    "    # quantile values for current station\n",
    "    Q1 = current_station.EXIT_FLUX.quantile(0.25)\n",
    "    Q3 = current_station.EXIT_FLUX.quantile(0.75)\n",
    "    IQR = Q3 - Q1\n",
    "\n",
    "    # Filtering Values between Q1-1.5IQR and Q3+1.5IQR\n",
    "    mask = current_station.EXIT_FLUX.between(Q1-IQR*factor, Q3+IQR*factor, inclusive=True)\n",
    "    \n",
    "    #pd.concat([filtered,current_station[mask]],axis=1)\n",
    "    #filtered.concat(current_station[mask],ignore_index=True)\n",
    "    filtered = filtered.append(current_station[mask])"
   ]
  },
  {
   "cell_type": "code",
   "execution_count": 67,
   "metadata": {},
   "outputs": [
    {
     "data": {
      "text/html": [
       "<div>\n",
       "<style scoped>\n",
       "    .dataframe tbody tr th:only-of-type {\n",
       "        vertical-align: middle;\n",
       "    }\n",
       "\n",
       "    .dataframe tbody tr th {\n",
       "        vertical-align: top;\n",
       "    }\n",
       "\n",
       "    .dataframe thead th {\n",
       "        text-align: right;\n",
       "    }\n",
       "</style>\n",
       "<table border=\"1\" class=\"dataframe\">\n",
       "  <thead>\n",
       "    <tr style=\"text-align: right;\">\n",
       "      <th></th>\n",
       "      <th>ENTRY_FLUX</th>\n",
       "      <th>EXIT_FLUX</th>\n",
       "    </tr>\n",
       "  </thead>\n",
       "  <tbody>\n",
       "    <tr>\n",
       "      <th>count</th>\n",
       "      <td>117248.000000</td>\n",
       "      <td>117248.000000</td>\n",
       "    </tr>\n",
       "    <tr>\n",
       "      <th>mean</th>\n",
       "      <td>973.259476</td>\n",
       "      <td>697.688762</td>\n",
       "    </tr>\n",
       "    <tr>\n",
       "      <th>std</th>\n",
       "      <td>920.718408</td>\n",
       "      <td>762.362219</td>\n",
       "    </tr>\n",
       "    <tr>\n",
       "      <th>min</th>\n",
       "      <td>0.000000</td>\n",
       "      <td>0.000000</td>\n",
       "    </tr>\n",
       "    <tr>\n",
       "      <th>25%</th>\n",
       "      <td>235.000000</td>\n",
       "      <td>131.000000</td>\n",
       "    </tr>\n",
       "    <tr>\n",
       "      <th>50%</th>\n",
       "      <td>748.500000</td>\n",
       "      <td>453.000000</td>\n",
       "    </tr>\n",
       "    <tr>\n",
       "      <th>75%</th>\n",
       "      <td>1461.000000</td>\n",
       "      <td>1008.000000</td>\n",
       "    </tr>\n",
       "    <tr>\n",
       "      <th>max</th>\n",
       "      <td>6973.000000</td>\n",
       "      <td>6941.000000</td>\n",
       "    </tr>\n",
       "  </tbody>\n",
       "</table>\n",
       "</div>"
      ],
      "text/plain": [
       "          ENTRY_FLUX      EXIT_FLUX\n",
       "count  117248.000000  117248.000000\n",
       "mean      973.259476     697.688762\n",
       "std       920.718408     762.362219\n",
       "min         0.000000       0.000000\n",
       "25%       235.000000     131.000000\n",
       "50%       748.500000     453.000000\n",
       "75%      1461.000000    1008.000000\n",
       "max      6973.000000    6941.000000"
      ]
     },
     "execution_count": 67,
     "metadata": {},
     "output_type": "execute_result"
    }
   ],
   "source": [
    "filtered.describe()"
   ]
  },
  {
   "cell_type": "code",
   "execution_count": 40,
   "metadata": {},
   "outputs": [
    {
     "ename": "KeyError",
     "evalue": "'STATION'",
     "output_type": "error",
     "traceback": [
      "\u001b[0;31m---------------------------------------------------------------------------\u001b[0m",
      "\u001b[0;31mKeyError\u001b[0m                                  Traceback (most recent call last)",
      "\u001b[0;32m/anaconda3/lib/python3.6/site-packages/pandas/core/indexes/base.py\u001b[0m in \u001b[0;36mget_loc\u001b[0;34m(self, key, method, tolerance)\u001b[0m\n\u001b[1;32m   3077\u001b[0m             \u001b[0;32mtry\u001b[0m\u001b[0;34m:\u001b[0m\u001b[0;34m\u001b[0m\u001b[0m\n\u001b[0;32m-> 3078\u001b[0;31m                 \u001b[0;32mreturn\u001b[0m \u001b[0mself\u001b[0m\u001b[0;34m.\u001b[0m\u001b[0m_engine\u001b[0m\u001b[0;34m.\u001b[0m\u001b[0mget_loc\u001b[0m\u001b[0;34m(\u001b[0m\u001b[0mkey\u001b[0m\u001b[0;34m)\u001b[0m\u001b[0;34m\u001b[0m\u001b[0m\n\u001b[0m\u001b[1;32m   3079\u001b[0m             \u001b[0;32mexcept\u001b[0m \u001b[0mKeyError\u001b[0m\u001b[0;34m:\u001b[0m\u001b[0;34m\u001b[0m\u001b[0m\n",
      "\u001b[0;32mpandas/_libs/index.pyx\u001b[0m in \u001b[0;36mpandas._libs.index.IndexEngine.get_loc\u001b[0;34m()\u001b[0m\n",
      "\u001b[0;32mpandas/_libs/index.pyx\u001b[0m in \u001b[0;36mpandas._libs.index.IndexEngine.get_loc\u001b[0;34m()\u001b[0m\n",
      "\u001b[0;32mpandas/_libs/hashtable_class_helper.pxi\u001b[0m in \u001b[0;36mpandas._libs.hashtable.PyObjectHashTable.get_item\u001b[0;34m()\u001b[0m\n",
      "\u001b[0;32mpandas/_libs/hashtable_class_helper.pxi\u001b[0m in \u001b[0;36mpandas._libs.hashtable.PyObjectHashTable.get_item\u001b[0;34m()\u001b[0m\n",
      "\u001b[0;31mKeyError\u001b[0m: 'STATION'",
      "\nDuring handling of the above exception, another exception occurred:\n",
      "\u001b[0;31mKeyError\u001b[0m                                  Traceback (most recent call last)",
      "\u001b[0;32m<ipython-input-40-8edb70fd2cb2>\u001b[0m in \u001b[0;36m<module>\u001b[0;34m()\u001b[0m\n\u001b[1;32m      3\u001b[0m \"\"\"\n\u001b[1;32m      4\u001b[0m \u001b[0mfig\u001b[0m\u001b[0;34m,\u001b[0m \u001b[0max\u001b[0m \u001b[0;34m=\u001b[0m \u001b[0mplt\u001b[0m\u001b[0;34m.\u001b[0m\u001b[0msubplots\u001b[0m\u001b[0;34m(\u001b[0m\u001b[0;34m)\u001b[0m\u001b[0;34m\u001b[0m\u001b[0m\n\u001b[0;32m----> 5\u001b[0;31m \u001b[0mfiltered\u001b[0m\u001b[0;34m[\u001b[0m\u001b[0mfiltered\u001b[0m\u001b[0;34m[\u001b[0m\u001b[0;34m'STATION'\u001b[0m\u001b[0;34m]\u001b[0m\u001b[0;34m==\u001b[0m\u001b[0;34m'GRD CNTRL-42 ST'\u001b[0m\u001b[0;34m]\u001b[0m\u001b[0;34m.\u001b[0m\u001b[0mENTRY_FLUX\u001b[0m\u001b[0;34m.\u001b[0m\u001b[0mhist\u001b[0m\u001b[0;34m(\u001b[0m\u001b[0max\u001b[0m\u001b[0;34m=\u001b[0m\u001b[0max\u001b[0m\u001b[0;34m,\u001b[0m \u001b[0mbins\u001b[0m\u001b[0;34m=\u001b[0m\u001b[0;36m100\u001b[0m\u001b[0;34m,\u001b[0m \u001b[0mbottom\u001b[0m\u001b[0;34m=\u001b[0m\u001b[0;36m0\u001b[0m\u001b[0;34m)\u001b[0m\u001b[0;34m\u001b[0m\u001b[0m\n\u001b[0m\u001b[1;32m      6\u001b[0m \u001b[0;31m#station.boxplot()\u001b[0m\u001b[0;34m\u001b[0m\u001b[0;34m\u001b[0m\u001b[0m\n\u001b[1;32m      7\u001b[0m \u001b[0max\u001b[0m\u001b[0;34m.\u001b[0m\u001b[0mset_xscale\u001b[0m\u001b[0;34m(\u001b[0m\u001b[0;34m'log'\u001b[0m\u001b[0;34m)\u001b[0m\u001b[0;34m\u001b[0m\u001b[0m\n",
      "\u001b[0;32m/anaconda3/lib/python3.6/site-packages/pandas/core/frame.py\u001b[0m in \u001b[0;36m__getitem__\u001b[0;34m(self, key)\u001b[0m\n\u001b[1;32m   2686\u001b[0m             \u001b[0;32mreturn\u001b[0m \u001b[0mself\u001b[0m\u001b[0;34m.\u001b[0m\u001b[0m_getitem_multilevel\u001b[0m\u001b[0;34m(\u001b[0m\u001b[0mkey\u001b[0m\u001b[0;34m)\u001b[0m\u001b[0;34m\u001b[0m\u001b[0m\n\u001b[1;32m   2687\u001b[0m         \u001b[0;32melse\u001b[0m\u001b[0;34m:\u001b[0m\u001b[0;34m\u001b[0m\u001b[0m\n\u001b[0;32m-> 2688\u001b[0;31m             \u001b[0;32mreturn\u001b[0m \u001b[0mself\u001b[0m\u001b[0;34m.\u001b[0m\u001b[0m_getitem_column\u001b[0m\u001b[0;34m(\u001b[0m\u001b[0mkey\u001b[0m\u001b[0;34m)\u001b[0m\u001b[0;34m\u001b[0m\u001b[0m\n\u001b[0m\u001b[1;32m   2689\u001b[0m \u001b[0;34m\u001b[0m\u001b[0m\n\u001b[1;32m   2690\u001b[0m     \u001b[0;32mdef\u001b[0m \u001b[0m_getitem_column\u001b[0m\u001b[0;34m(\u001b[0m\u001b[0mself\u001b[0m\u001b[0;34m,\u001b[0m \u001b[0mkey\u001b[0m\u001b[0;34m)\u001b[0m\u001b[0;34m:\u001b[0m\u001b[0;34m\u001b[0m\u001b[0m\n",
      "\u001b[0;32m/anaconda3/lib/python3.6/site-packages/pandas/core/frame.py\u001b[0m in \u001b[0;36m_getitem_column\u001b[0;34m(self, key)\u001b[0m\n\u001b[1;32m   2693\u001b[0m         \u001b[0;31m# get column\u001b[0m\u001b[0;34m\u001b[0m\u001b[0;34m\u001b[0m\u001b[0m\n\u001b[1;32m   2694\u001b[0m         \u001b[0;32mif\u001b[0m \u001b[0mself\u001b[0m\u001b[0;34m.\u001b[0m\u001b[0mcolumns\u001b[0m\u001b[0;34m.\u001b[0m\u001b[0mis_unique\u001b[0m\u001b[0;34m:\u001b[0m\u001b[0;34m\u001b[0m\u001b[0m\n\u001b[0;32m-> 2695\u001b[0;31m             \u001b[0;32mreturn\u001b[0m \u001b[0mself\u001b[0m\u001b[0;34m.\u001b[0m\u001b[0m_get_item_cache\u001b[0m\u001b[0;34m(\u001b[0m\u001b[0mkey\u001b[0m\u001b[0;34m)\u001b[0m\u001b[0;34m\u001b[0m\u001b[0m\n\u001b[0m\u001b[1;32m   2696\u001b[0m \u001b[0;34m\u001b[0m\u001b[0m\n\u001b[1;32m   2697\u001b[0m         \u001b[0;31m# duplicate columns & possible reduce dimensionality\u001b[0m\u001b[0;34m\u001b[0m\u001b[0;34m\u001b[0m\u001b[0m\n",
      "\u001b[0;32m/anaconda3/lib/python3.6/site-packages/pandas/core/generic.py\u001b[0m in \u001b[0;36m_get_item_cache\u001b[0;34m(self, item)\u001b[0m\n\u001b[1;32m   2487\u001b[0m         \u001b[0mres\u001b[0m \u001b[0;34m=\u001b[0m \u001b[0mcache\u001b[0m\u001b[0;34m.\u001b[0m\u001b[0mget\u001b[0m\u001b[0;34m(\u001b[0m\u001b[0mitem\u001b[0m\u001b[0;34m)\u001b[0m\u001b[0;34m\u001b[0m\u001b[0m\n\u001b[1;32m   2488\u001b[0m         \u001b[0;32mif\u001b[0m \u001b[0mres\u001b[0m \u001b[0;32mis\u001b[0m \u001b[0;32mNone\u001b[0m\u001b[0;34m:\u001b[0m\u001b[0;34m\u001b[0m\u001b[0m\n\u001b[0;32m-> 2489\u001b[0;31m             \u001b[0mvalues\u001b[0m \u001b[0;34m=\u001b[0m \u001b[0mself\u001b[0m\u001b[0;34m.\u001b[0m\u001b[0m_data\u001b[0m\u001b[0;34m.\u001b[0m\u001b[0mget\u001b[0m\u001b[0;34m(\u001b[0m\u001b[0mitem\u001b[0m\u001b[0;34m)\u001b[0m\u001b[0;34m\u001b[0m\u001b[0m\n\u001b[0m\u001b[1;32m   2490\u001b[0m             \u001b[0mres\u001b[0m \u001b[0;34m=\u001b[0m \u001b[0mself\u001b[0m\u001b[0;34m.\u001b[0m\u001b[0m_box_item_values\u001b[0m\u001b[0;34m(\u001b[0m\u001b[0mitem\u001b[0m\u001b[0;34m,\u001b[0m \u001b[0mvalues\u001b[0m\u001b[0;34m)\u001b[0m\u001b[0;34m\u001b[0m\u001b[0m\n\u001b[1;32m   2491\u001b[0m             \u001b[0mcache\u001b[0m\u001b[0;34m[\u001b[0m\u001b[0mitem\u001b[0m\u001b[0;34m]\u001b[0m \u001b[0;34m=\u001b[0m \u001b[0mres\u001b[0m\u001b[0;34m\u001b[0m\u001b[0m\n",
      "\u001b[0;32m/anaconda3/lib/python3.6/site-packages/pandas/core/internals.py\u001b[0m in \u001b[0;36mget\u001b[0;34m(self, item, fastpath)\u001b[0m\n\u001b[1;32m   4113\u001b[0m \u001b[0;34m\u001b[0m\u001b[0m\n\u001b[1;32m   4114\u001b[0m             \u001b[0;32mif\u001b[0m \u001b[0;32mnot\u001b[0m \u001b[0misna\u001b[0m\u001b[0;34m(\u001b[0m\u001b[0mitem\u001b[0m\u001b[0;34m)\u001b[0m\u001b[0;34m:\u001b[0m\u001b[0;34m\u001b[0m\u001b[0m\n\u001b[0;32m-> 4115\u001b[0;31m                 \u001b[0mloc\u001b[0m \u001b[0;34m=\u001b[0m \u001b[0mself\u001b[0m\u001b[0;34m.\u001b[0m\u001b[0mitems\u001b[0m\u001b[0;34m.\u001b[0m\u001b[0mget_loc\u001b[0m\u001b[0;34m(\u001b[0m\u001b[0mitem\u001b[0m\u001b[0;34m)\u001b[0m\u001b[0;34m\u001b[0m\u001b[0m\n\u001b[0m\u001b[1;32m   4116\u001b[0m             \u001b[0;32melse\u001b[0m\u001b[0;34m:\u001b[0m\u001b[0;34m\u001b[0m\u001b[0m\n\u001b[1;32m   4117\u001b[0m                 \u001b[0mindexer\u001b[0m \u001b[0;34m=\u001b[0m \u001b[0mnp\u001b[0m\u001b[0;34m.\u001b[0m\u001b[0marange\u001b[0m\u001b[0;34m(\u001b[0m\u001b[0mlen\u001b[0m\u001b[0;34m(\u001b[0m\u001b[0mself\u001b[0m\u001b[0;34m.\u001b[0m\u001b[0mitems\u001b[0m\u001b[0;34m)\u001b[0m\u001b[0;34m)\u001b[0m\u001b[0;34m[\u001b[0m\u001b[0misna\u001b[0m\u001b[0;34m(\u001b[0m\u001b[0mself\u001b[0m\u001b[0;34m.\u001b[0m\u001b[0mitems\u001b[0m\u001b[0;34m)\u001b[0m\u001b[0;34m]\u001b[0m\u001b[0;34m\u001b[0m\u001b[0m\n",
      "\u001b[0;32m/anaconda3/lib/python3.6/site-packages/pandas/core/indexes/base.py\u001b[0m in \u001b[0;36mget_loc\u001b[0;34m(self, key, method, tolerance)\u001b[0m\n\u001b[1;32m   3078\u001b[0m                 \u001b[0;32mreturn\u001b[0m \u001b[0mself\u001b[0m\u001b[0;34m.\u001b[0m\u001b[0m_engine\u001b[0m\u001b[0;34m.\u001b[0m\u001b[0mget_loc\u001b[0m\u001b[0;34m(\u001b[0m\u001b[0mkey\u001b[0m\u001b[0;34m)\u001b[0m\u001b[0;34m\u001b[0m\u001b[0m\n\u001b[1;32m   3079\u001b[0m             \u001b[0;32mexcept\u001b[0m \u001b[0mKeyError\u001b[0m\u001b[0;34m:\u001b[0m\u001b[0;34m\u001b[0m\u001b[0m\n\u001b[0;32m-> 3080\u001b[0;31m                 \u001b[0;32mreturn\u001b[0m \u001b[0mself\u001b[0m\u001b[0;34m.\u001b[0m\u001b[0m_engine\u001b[0m\u001b[0;34m.\u001b[0m\u001b[0mget_loc\u001b[0m\u001b[0;34m(\u001b[0m\u001b[0mself\u001b[0m\u001b[0;34m.\u001b[0m\u001b[0m_maybe_cast_indexer\u001b[0m\u001b[0;34m(\u001b[0m\u001b[0mkey\u001b[0m\u001b[0;34m)\u001b[0m\u001b[0;34m)\u001b[0m\u001b[0;34m\u001b[0m\u001b[0m\n\u001b[0m\u001b[1;32m   3081\u001b[0m \u001b[0;34m\u001b[0m\u001b[0m\n\u001b[1;32m   3082\u001b[0m         \u001b[0mindexer\u001b[0m \u001b[0;34m=\u001b[0m \u001b[0mself\u001b[0m\u001b[0;34m.\u001b[0m\u001b[0mget_indexer\u001b[0m\u001b[0;34m(\u001b[0m\u001b[0;34m[\u001b[0m\u001b[0mkey\u001b[0m\u001b[0;34m]\u001b[0m\u001b[0;34m,\u001b[0m \u001b[0mmethod\u001b[0m\u001b[0;34m=\u001b[0m\u001b[0mmethod\u001b[0m\u001b[0;34m,\u001b[0m \u001b[0mtolerance\u001b[0m\u001b[0;34m=\u001b[0m\u001b[0mtolerance\u001b[0m\u001b[0;34m)\u001b[0m\u001b[0;34m\u001b[0m\u001b[0m\n",
      "\u001b[0;32mpandas/_libs/index.pyx\u001b[0m in \u001b[0;36mpandas._libs.index.IndexEngine.get_loc\u001b[0;34m()\u001b[0m\n",
      "\u001b[0;32mpandas/_libs/index.pyx\u001b[0m in \u001b[0;36mpandas._libs.index.IndexEngine.get_loc\u001b[0;34m()\u001b[0m\n",
      "\u001b[0;32mpandas/_libs/hashtable_class_helper.pxi\u001b[0m in \u001b[0;36mpandas._libs.hashtable.PyObjectHashTable.get_item\u001b[0;34m()\u001b[0m\n",
      "\u001b[0;32mpandas/_libs/hashtable_class_helper.pxi\u001b[0m in \u001b[0;36mpandas._libs.hashtable.PyObjectHashTable.get_item\u001b[0;34m()\u001b[0m\n",
      "\u001b[0;31mKeyError\u001b[0m: 'STATION'"
     ]
    },
    {
     "data": {
      "image/png": "[encoded data removed]",
      "text/plain": [
       "<Figure size 432x288 with 1 Axes>"
      ]
     },
     "metadata": {},
     "output_type": "display_data"
    }
   ],
   "source": [
    "\"\"\"\n",
    "plot distribution of entries\n",
    "\"\"\"\n",
    "fig, ax = plt.subplots()\n",
    "filtered[filtered['STATION']=='GRD CNTRL-42 ST'].ENTRY_FLUX.hist(ax=ax, bins=100, bottom=0)\n",
    "#station.boxplot()\n",
    "ax.set_xscale('log')"
   ]
  },
  {
   "cell_type": "code",
   "execution_count": null,
   "metadata": {},
   "outputs": [],
   "source": [
    "flux[['STATION']==]"
   ]
  }
 ],
 "metadata": {
  "kernelspec": {
   "display_name": "Python 3",
   "language": "python",
   "name": "python3"
  },
  "language_info": {
   "codemirror_mode": {
    "name": "ipython",
    "version": 3
   },
   "file_extension": ".py",
   "mimetype": "text/x-python",
   "name": "python",
   "nbconvert_exporter": "python",
   "pygments_lexer": "ipython3",
   "version": "3.6.6"
  }
 },
 "nbformat": 4,
 "nbformat_minor": 2
}
