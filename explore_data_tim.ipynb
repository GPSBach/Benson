{
 "cells": [
  {
   "cell_type": "code",
   "execution_count": 1,
   "metadata": {},
   "outputs": [],
   "source": [
    "\"\"\"\n",
    "Set Options\n",
    "\"\"\"\n",
    "\n",
    "# import libraries\n",
    "import pandas as pd\n",
    "import numpy as np\n",
    "import os\n",
    "import glob\n",
    "import matplotlib.pyplot as plt\n",
    "import matplotlib\n",
    "from datetime import datetime\n",
    "import pickle as pkl\n",
    "\n",
    "# configuration options\n",
    "%matplotlib inline\n",
    "matplotlib.style.use(\"seaborn-muted\")\n",
    "pd.set_option('display.max_columns', None)\n",
    "pd.set_option('display.max_rows', 50)"
   ]
  },
  {
   "cell_type": "code",
   "execution_count": 2,
   "metadata": {},
   "outputs": [],
   "source": [
    "\"\"\"\n",
    "import pickle file\n",
    "\"\"\"\n",
    "with open(\"./data/filtered_data.pkl\", 'rb') as picklefile: \n",
    "    filtered = pkl.load(picklefile)"
   ]
  },
  {
   "cell_type": "code",
   "execution_count": 7,
   "metadata": {},
   "outputs": [
    {
     "data": {
      "text/html": [
       "<div>\n",
       "<style scoped>\n",
       "    .dataframe tbody tr th:only-of-type {\n",
       "        vertical-align: middle;\n",
       "    }\n",
       "\n",
       "    .dataframe tbody tr th {\n",
       "        vertical-align: top;\n",
       "    }\n",
       "\n",
       "    .dataframe thead th {\n",
       "        text-align: right;\n",
       "    }\n",
       "</style>\n",
       "<table border=\"1\" class=\"dataframe\">\n",
       "  <thead>\n",
       "    <tr style=\"text-align: right;\">\n",
       "      <th></th>\n",
       "      <th>CONTROL</th>\n",
       "      <th>UNIT</th>\n",
       "      <th>SCP</th>\n",
       "      <th>STATION</th>\n",
       "      <th>ENTRY_FLUX</th>\n",
       "      <th>EXIT_FLUX</th>\n",
       "      <th>DATE</th>\n",
       "    </tr>\n",
       "  </thead>\n",
       "  <tbody>\n",
       "    <tr>\n",
       "      <th>0</th>\n",
       "      <td>A002</td>\n",
       "      <td>R051</td>\n",
       "      <td>02-00-00</td>\n",
       "      <td>59 ST</td>\n",
       "      <td>505.0</td>\n",
       "      <td>206.0</td>\n",
       "      <td>2018-08-26</td>\n",
       "    </tr>\n",
       "    <tr>\n",
       "      <th>1</th>\n",
       "      <td>A002</td>\n",
       "      <td>R051</td>\n",
       "      <td>02-00-00</td>\n",
       "      <td>59 ST</td>\n",
       "      <td>1190.0</td>\n",
       "      <td>460.0</td>\n",
       "      <td>2018-08-27</td>\n",
       "    </tr>\n",
       "    <tr>\n",
       "      <th>2</th>\n",
       "      <td>A002</td>\n",
       "      <td>R051</td>\n",
       "      <td>02-00-00</td>\n",
       "      <td>59 ST</td>\n",
       "      <td>1373.0</td>\n",
       "      <td>387.0</td>\n",
       "      <td>2018-08-28</td>\n",
       "    </tr>\n",
       "    <tr>\n",
       "      <th>3</th>\n",
       "      <td>A002</td>\n",
       "      <td>R051</td>\n",
       "      <td>02-00-00</td>\n",
       "      <td>59 ST</td>\n",
       "      <td>1258.0</td>\n",
       "      <td>463.0</td>\n",
       "      <td>2018-08-29</td>\n",
       "    </tr>\n",
       "    <tr>\n",
       "      <th>4</th>\n",
       "      <td>A002</td>\n",
       "      <td>R051</td>\n",
       "      <td>02-00-00</td>\n",
       "      <td>59 ST</td>\n",
       "      <td>1311.0</td>\n",
       "      <td>447.0</td>\n",
       "      <td>2018-08-30</td>\n",
       "    </tr>\n",
       "  </tbody>\n",
       "</table>\n",
       "</div>"
      ],
      "text/plain": [
       "  CONTROL  UNIT       SCP STATION  ENTRY_FLUX  EXIT_FLUX       DATE\n",
       "0    A002  R051  02-00-00   59 ST       505.0      206.0 2018-08-26\n",
       "1    A002  R051  02-00-00   59 ST      1190.0      460.0 2018-08-27\n",
       "2    A002  R051  02-00-00   59 ST      1373.0      387.0 2018-08-28\n",
       "3    A002  R051  02-00-00   59 ST      1258.0      463.0 2018-08-29\n",
       "4    A002  R051  02-00-00   59 ST      1311.0      447.0 2018-08-30"
      ]
     },
     "execution_count": 7,
     "metadata": {},
     "output_type": "execute_result"
    }
   ],
   "source": [
    "filtered.head()"
   ]
  },
  {
   "cell_type": "code",
   "execution_count": 3,
   "metadata": {},
   "outputs": [
    {
     "data": {
      "text/plain": [
       "array(['14 ST-UNION SQ', '34 ST-HERALD SQ', '57 ST-7 AV', '8 AV', '1 AV',\n",
       "       '86 ST-2 AVE', 'GRD CNTRL-42 ST', 'QUEENSBORO PLZ',\n",
       "       'FLUSHING-MAIN', '30 AV', 'TIMES SQ-42 ST', '23 ST', 'YORK ST',\n",
       "       '149/GRAND CONC', 'BEDFORD AV', 'JAMAICA CENTER', '145 ST',\n",
       "       '116 ST-COLUMBIA', '21 ST-QNSBRIDGE', 'ASTORIA DITMARS',\n",
       "       'SPRING ST', 'UTICA AV', 'CHRISTOPHER ST', '72 ST-2 AVE', '2 AV',\n",
       "       '96 ST', '34 ST-PENN STA', 'JKSN HT-ROOSVLT', 'PATH NEW WTC',\n",
       "       '42 ST-PORT AUTH', 'DEKALB AV', 'GATES AV', 'PARKCHESTER',\n",
       "       '59 ST COLUMBUS', 'WOODHAVEN BLVD', 'JUNCTION BLVD', '167 ST',\n",
       "       'GRAND ST', '3 AV-149 ST', 'NOSTRAND AV', '68ST-HUNTER CO',\n",
       "       '47-50 STS ROCK', '7 AV', 'PRINCE ST', '36 AV', 'PAVONIA/NEWPORT',\n",
       "       '33 ST', '231 ST', 'CANAL ST', '72 ST', 'HIGH ST', '103 ST-CORONA',\n",
       "       'RIT-MANHATTAN', 'JAY ST-METROTEC', 'GRAND-NEWTOWN', 'FORDHAM RD',\n",
       "       'LEXINGTON AV/63', 'GRAHAM AV', '28 ST', 'W 4 ST-WASH SQ',\n",
       "       'HOYT-SCHER', 'SUTPHIN-ARCHER', '137 ST CITY COL',\n",
       "       'LEXINGTON AV/53', '103 ST', '61 ST WOODSIDE', '125 ST',\n",
       "       'ROOSEVELT ISLND', 'BROADWAY JCT', '168 ST', '77 ST',\n",
       "       '81 ST-MUSEUM', 'MYRTLE AV', 'CROWN HTS-UTICA', '42 ST-BRYANT PK',\n",
       "       'HOUSTON ST', '96 ST-2 AVE', '14 ST', 'WINTHROP ST', 'HALSEY ST',\n",
       "       '40 ST LOWERY ST', 'THIRTY THIRD ST', '8 ST-NYU', '36 ST',\n",
       "       '110 ST', '181 ST', 'DELANCEY/ESSEX', '157 ST', 'MYRTLE-WYCKOFF',\n",
       "       'ASTORIA BLVD', '49 ST', 'BROOKLYN BRIDGE', 'FULTON ST',\n",
       "       'JOURNAL SQUARE', 'BURNSIDE AV', 'CANARSIE-ROCKAW',\n",
       "       'FLATBUSH AV-B.C', '86 ST', '50 ST', 'V.CORTLANDT PK',\n",
       "       'CATHEDRAL PKWY', 'STEINWAY ST', 'VERNON-JACKSON',\n",
       "       'FOREST HILLS 71', '63 DR-REGO PARK', 'ASTOR PL', 'NEWKIRK PLAZA',\n",
       "       'WHITEHALL S-FRY', 'SUTTER AV', 'MONTROSE AV', 'COURT SQ-23 ST',\n",
       "       'ELMHURST AV', '66 ST-LINCOLN', '6 AV', '90 ST-ELMHURST', '59 ST',\n",
       "       'PROSPECT PARK', '170 ST', 'DYCKMAN ST', '5 AV/53 ST',\n",
       "       'KEW GARDENS', '191 ST', '18 AV', 'KINGS HWY', 'CHAMBERS ST',\n",
       "       'BAY PKWY', '3 AV 138 ST', 'WORLD TRADE CTR', 'NEWKIRK AV',\n",
       "       'MARBLE HILL-225', '116 ST', 'SHEEPSHEAD BAY', '18 ST',\n",
       "       'EUCLID AV', '111 ST', '45 ST', 'BOROUGH HALL', 'KINGSTON-THROOP',\n",
       "       'BLEECKER ST', '161/YANKEE STAD', '135 ST', \"B'WAY-LAFAYETTE\",\n",
       "       '5 AVE', '174 ST', '79 ST', 'PARKSIDE AV', 'TWENTY THIRD ST',\n",
       "       'STERLING ST', '175 ST', '20 AV', 'ATL AV-BARCLAY',\n",
       "       '46 ST BLISS ST', 'FRANKLIN AV', 'JEFFERSON ST', 'GRANT AV',\n",
       "       '33 ST-RAWSON ST', '53 ST', 'WALL ST', 'CRESCENT ST', 'NEW LOTS',\n",
       "       'LORIMER ST', 'BEDFORD-NOSTRAN', 'BAY RIDGE AV', 'WESTCHESTER SQ',\n",
       "       '82 ST-JACKSON H', 'GUN HILL RD', 'ELDER AV', 'MARCY AV',\n",
       "       'CENTRAL PK N110', 'GRAND ARMY PLAZ', 'PELHAM PKWY', 'CLASSON AV',\n",
       "       'NORTHERN BLVD', 'BOWLING GREEN', 'GROVE STREET', 'BROADWAY',\n",
       "       'EAST BROADWAY', 'CHURCH AV', 'CONEY IS-STILLW', '5 AV/59 ST',\n",
       "       'SIMPSON ST', '9TH STREET', 'KOSCIUSZKO ST', 'INWOOD-207 ST',\n",
       "       'CLARK ST', 'PROSPECT AV', 'CORTELYOU RD', 'NASSAU AV', 'UNION ST',\n",
       "       'BEDFORD PK BLVD', 'KINGSTON AV', 'MORISN AV/SNDVW',\n",
       "       'JFK JAMAICA CT1', 'SMITH-9 ST', 'FRANKLIN ST', 'E 180 ST',\n",
       "       'METROPOLITAN AV', '14TH STREET', '233 ST', 'CASTLE HILL AV',\n",
       "       'WILSON AV', 'PRESIDENT ST', 'HARLEM 148 ST', 'AVENUE U',\n",
       "       'CITY / BUS', 'HUNTS POINT AV', '207 ST', 'NORWOOD 205 ST',\n",
       "       '52 ST', '3 AV', 'CARROLL ST', 'ALLERTON AV', '190 ST',\n",
       "       'TREMONT AV', 'RECTOR ST', 'KINGSBRIDGE RD', 'BOWERY', 'MORGAN AV',\n",
       "       'WOODLAWN', '67 AV', 'BERGEN ST', 'HARRISON', 'BRIGHTON BEACH',\n",
       "       'OZONE PK LEFFRT', 'NEVINS ST', '183 ST', 'SOUTH FERRY', '25 AV',\n",
       "       'JACKSON AV', '176 ST', 'WEST FARMS SQ', 'MOSHOLU PKWY',\n",
       "       'HEWES ST', 'FT HAMILTON PKY', 'BAYCHESTER AV', 'MT EDEN AV',\n",
       "       'NEWARK BM BW', 'BEVERLY RD', '51 ST', 'MYRTLE-WILLOUGH',\n",
       "       'COURT SQ', 'JAMAICA 179 ST', 'RALPH AV', 'PELHAM BAY PARK',\n",
       "       '74 ST-BROADWAY', '182-183 STS', 'BROOK AV', '238 ST',\n",
       "       'FREEMAN ST', 'NECK RD', '225 ST', 'RIT-ROOSEVELT',\n",
       "       'GREENPOINT AV', 'CLEVELAND ST', 'PENNSYLVANIA AV',\n",
       "       'KNICKERBOCKER', '155 ST', 'SUTTER AV-RUTLD', 'SARATOGA AV',\n",
       "       'CENTRAL AV', '71 ST', '4AV-9 ST', 'LAFAYETTE AV',\n",
       "       'EXCHANGE PLACE', 'BEVERLEY ROAD', 'ST LAWRENCE AV',\n",
       "       'EASTCHSTER/DYRE', 'CLINTON-WASH AV', 'QUEENS PLAZA',\n",
       "       'ROCKAWAY AV', 'ROCKAWAY BLVD', 'AVENUE M', 'BRONX PARK EAST',\n",
       "       'NEREID AV', 'AVENUE X', 'BAY RIDGE-95 ST', 'DITMAS AV',\n",
       "       'NEW LOTS AV', 'VAN SICLEN AV', 'EAST 105 ST', 'PARK PLACE',\n",
       "       'WAKEFIELD/241', 'CHAUNCEY ST', 'PATH WTC 2', 'CORTLANDT ST',\n",
       "       '9 AV', '65 ST', '219 ST', 'VAN SICLEN AVE', '85 ST-FOREST PK',\n",
       "       'E 149 ST', 'INTERVALE AV', 'HUNTERS PT AV', 'BUHRE AV',\n",
       "       'FRESH POND RD', 'NORWOOD AV', '15 ST-PROSPECT', '138/GRAND CONC',\n",
       "       '88 ST', 'MORRIS PARK', 'CYPRESS AV', 'BURKE AV', 'PARSONS BLVD',\n",
       "       'BROAD ST', '80 ST', 'ST. GEORGE', 'BAY 50 ST', 'ZEREGA AV',\n",
       "       'SHEPHERD AV', 'BUSHWICK AV', 'ALABAMA AV', 'EASTN PKWY-MUSM',\n",
       "       'HOYT ST', 'LONGWOOD AV', 'FAR ROCKAWAY', '4 AV-9 ST',\n",
       "       'LIVONIA AV', 'BRIARWOOD', 'METS-WILLETS PT', '75 ST-ELDERTS',\n",
       "       '46 ST', '25 ST', '55 ST', 'FLUSHING AV', 'AVENUE P', '169 ST',\n",
       "       'NEW UTRECHT AV', 'JAMAICA VAN WK', 'W 8 ST-AQUARIUM',\n",
       "       'FOREST AVE', 'AQUEDUCT RACETR', 'AVENUE J', 'BEACH 90 ST',\n",
       "       'LACKAWANNA', '69 ST', 'NEWARK HW BMEBE', 'WHITLOCK AV',\n",
       "       '34 ST-HUDSON YD', 'SENECA AVE', '104 ST', 'OCEAN PKWY', '21 ST',\n",
       "       'BEACH 67 ST', '75 AV', 'AVENUE N', '215 ST', 'SUTPHIN BLVD',\n",
       "       'CITY HALL', 'THIRTY ST', 'NEWARK C', 'NEPTUNE AV', 'BEACH 25 ST',\n",
       "       'ATLANTIC AV', 'BEACH 60 ST', 'LIBERTY AV', 'JUNIUS ST',\n",
       "       'AVENUE H', 'AVENUE I', 'ROCKAWAY PARK B', '121 ST',\n",
       "       'CYPRESS HILLS', 'MIDDLETOWN RD', 'HOWARD BCH JFK',\n",
       "       'BOTANIC GARDEN', 'BEACH 98 ST', 'BEACH 44 ST', \"E 143/ST MARY'S\",\n",
       "       'BEACH 36 ST', 'AQUEDUCT N.COND', 'BEACH 105 ST', 'TOMPKINSVILLE',\n",
       "       'BROAD CHANNEL', 'NEWARK HM HE', 'ORCHARD BEACH'], dtype=object)"
      ]
     },
     "execution_count": 3,
     "metadata": {},
     "output_type": "execute_result"
    }
   ],
   "source": [
    "filtered.sort_values(\"ENTRY_FLUX\",ascending=False).STATION.unique()"
   ]
  },
  {
   "cell_type": "code",
   "execution_count": 6,
   "metadata": {},
   "outputs": [
    {
     "data": {
      "text/plain": [
       "<matplotlib.axes._subplots.AxesSubplot at 0x11729b5c0>"
      ]
     },
     "execution_count": 6,
     "metadata": {},
     "output_type": "execute_result"
    },
    {
     "data": {
      "image/png": "[encoded data removed]",
      "text/plain": [
       "<Figure size 432x288 with 1 Axes>"
      ]
     },
     "metadata": {},
     "output_type": "display_data"
    }
   ],
   "source": [
    "\"\"\"\n",
    "plot distribution of entries\n",
    "\"\"\"\n",
    "fig, ax = plt.subplots()\n",
    "filtered[filtered['STATION']=='GRD CNTRL-42 ST'].ENTRY_FLUX.hist(ax=ax, bins=100, bottom=0)\n",
    "#station.boxplot()\n",
    "#ax.set_xscale('log')"
   ]
  },
  {
   "cell_type": "code",
   "execution_count": 5,
   "metadata": {},
   "outputs": [
    {
     "ename": "SyntaxError",
     "evalue": "invalid syntax (<ipython-input-5-ac5e27629f48>, line 1)",
     "output_type": "error",
     "traceback": [
      "\u001b[0;36m  File \u001b[0;32m\"<ipython-input-5-ac5e27629f48>\"\u001b[0;36m, line \u001b[0;32m1\u001b[0m\n\u001b[0;31m    flux[['STATION']==]\u001b[0m\n\u001b[0m                      ^\u001b[0m\n\u001b[0;31mSyntaxError\u001b[0m\u001b[0;31m:\u001b[0m invalid syntax\n"
     ]
    }
   ],
   "source": [
    "flux[['STATION']==]"
   ]
  }
 ],
 "metadata": {
  "kernelspec": {
   "display_name": "Python 3",
   "language": "python",
   "name": "python3"
  },
  "language_info": {
   "codemirror_mode": {
    "name": "ipython",
    "version": 3
   },
   "file_extension": ".py",
   "mimetype": "text/x-python",
   "name": "python",
   "nbconvert_exporter": "python",
   "pygments_lexer": "ipython3",
   "version": "3.6.6"
  }
 },
 "nbformat": 4,
 "nbformat_minor": 2
}
