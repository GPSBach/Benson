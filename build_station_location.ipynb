{
 "cells": [
  {
   "cell_type": "code",
   "execution_count": 14,
   "metadata": {},
   "outputs": [],
   "source": [
    "\"\"\"\n",
    "Set Options\n",
    "\"\"\"\n",
    "\n",
    "# import libraries\n",
    "import pandas as pd\n",
    "import numpy as np\n",
    "import os\n",
    "import glob\n",
    "import matplotlib.pyplot as plt\n",
    "import matplotlib\n",
    "from datetime import datetime\n",
    "import pickle as pkl\n",
    "\n",
    "# configuration options\n",
    "%matplotlib inline\n",
    "matplotlib.style.use(\"seaborn-muted\")\n",
    "pd.set_option('display.max_columns', None)\n",
    "pd.set_option('display.max_rows', 50)"
   ]
  },
  {
   "cell_type": "code",
   "execution_count": 15,
   "metadata": {},
   "outputs": [],
   "source": [
    "\"\"\"\n",
    "import data files\n",
    "\"\"\"\n",
    "\n",
    "# load filtered datafile\n",
    "with open(\"./data/filtered_station.pkl\", 'rb') as picklefile: \n",
    "    filtered_data = pkl.load(picklefile)\n",
    "\n",
    "# load station locations\n",
    "station_loc = pd.read_csv('./data/latlon_map.csv')"
   ]
  },
  {
   "cell_type": "code",
   "execution_count": 16,
   "metadata": {},
   "outputs": [],
   "source": [
    "\"\"\"\n",
    "parse lat lon data\n",
    "\"\"\"\n",
    "\n",
    "# format strings\n",
    "locations = station_loc.LOCATION\n",
    "locations = locations.str.replace(',',' ')\n",
    "locations = locations.str.replace('(',' ')\n",
    "locations = locations.str.replace(')',' ')\n",
    "locations = locations.str.split()\n",
    "\n",
    "# convert to float and append to data structure\n",
    "lons = []\n",
    "lats = []\n",
    "\n",
    "for l in locations:\n",
    "    lons.append(float(l[1]))\n",
    "    lats.append(float(l[2]))\n",
    "    \n",
    "lons_pd = pd.Series(lons)\n",
    "lats_pd = pd.Series(lats)\n",
    "station_loc['LAT'] = lats_pd\n",
    "station_loc['LON'] =  lons_pd\n",
    "\n",
    "# remove spurious datas\n",
    "station_loc = station_loc.drop('LOCATION', axis=1)"
   ]
  },
  {
   "cell_type": "code",
   "execution_count": 17,
   "metadata": {},
   "outputs": [],
   "source": [
    "\"\"\"\n",
    "pickle output\n",
    "\"\"\"\n",
    "\n",
    "# write as binary ('wb')\n",
    "with open('./data/station_locations.pkl', 'wb') as picklefile:\n",
    "    pkl.dump(station_loc, picklefile)"
   ]
  }
 ],
 "metadata": {
  "kernelspec": {
   "display_name": "Python 3",
   "language": "python",
   "name": "python3"
  },
  "language_info": {
   "codemirror_mode": {
    "name": "ipython",
    "version": 3
   },
   "file_extension": ".py",
   "mimetype": "text/x-python",
   "name": "python",
   "nbconvert_exporter": "python",
   "pygments_lexer": "ipython3",
   "version": "3.6.6"
  },
  "toc": {
   "base_numbering": 1,
   "nav_menu": {},
   "number_sections": true,
   "sideBar": true,
   "skip_h1_title": false,
   "title_cell": "Table of Contents",
   "title_sidebar": "Contents",
   "toc_cell": false,
   "toc_position": {},
   "toc_section_display": true,
   "toc_window_display": false
  },
  "varInspector": {
   "cols": {
    "lenName": 16,
    "lenType": 16,
    "lenVar": 40
   },
   "kernels_config": {
    "python": {
     "delete_cmd_postfix": "",
     "delete_cmd_prefix": "del ",
     "library": "var_list.py",
     "varRefreshCmd": "print(var_dic_list())"
    },
    "r": {
     "delete_cmd_postfix": ") ",
     "delete_cmd_prefix": "rm(",
     "library": "var_list.r",
     "varRefreshCmd": "cat(var_dic_list()) "
    }
   },
   "types_to_exclude": [
    "module",
    "function",
    "builtin_function_or_method",
    "instance",
    "_Feature"
   ],
   "window_display": false
  }
 },
 "nbformat": 4,
 "nbformat_minor": 2
}
