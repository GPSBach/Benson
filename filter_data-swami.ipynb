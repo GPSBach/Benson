{
 "cells": [
  {
   "cell_type": "code",
   "execution_count": 1,
   "metadata": {},
   "outputs": [],
   "source": [
    "\"\"\"\n",
    "Set Options\n",
    "\"\"\"\n",
    "\n",
    "# import libraries\n",
    "import pandas as pd\n",
    "import numpy as np\n",
    "import os\n",
    "import glob\n",
    "import matplotlib.pyplot as plt\n",
    "import matplotlib\n",
    "from datetime import datetime\n",
    "import pickle as pkl\n",
    "\n",
    "# configuration options\n",
    "%matplotlib inline\n",
    "matplotlib.style.use(\"seaborn-muted\")\n",
    "pd.set_option('display.max_columns', None)\n",
    "pd.set_option('display.max_rows', 50)"
   ]
  },
  {
   "cell_type": "code",
   "execution_count": 2,
   "metadata": {},
   "outputs": [],
   "source": [
    "\"\"\"\n",
    "import pickle file\n",
    "\"\"\"\n",
    "with open(\"./data/turnstile_data.pkl\", 'rb') as picklefile: \n",
    "    flux = pkl.load(picklefile)"
   ]
  },
  {
   "cell_type": "code",
   "execution_count": 3,
   "metadata": {},
   "outputs": [],
   "source": [
    "# Computing IQR\n",
    "\n",
    "factor = 1.5\n",
    "\n",
    "# filter for ENTRY outliers\n",
    "filtered_entry = pd.DataFrame(columns=flux.columns)\n",
    "\n",
    "# loop through stations\n",
    "for station in flux.STATION.unique():\n",
    "\n",
    "    current_station = flux[flux['STATION']==station]\n",
    "\n",
    "    # quantile values for current station\n",
    "    Q1 = current_station.ENTRY_FLUX.quantile(0.25)\n",
    "    Q3 = current_station.ENTRY_FLUX.quantile(0.75)\n",
    "    IQR = Q3 - Q1\n",
    "\n",
    "    # Filtering Values between Q1-1.5IQR and Q3+1.5IQR\n",
    "    mask = current_station.ENTRY_FLUX.between(Q1-IQR*factor, Q3+IQR*factor, inclusive=True)\n",
    "    \n",
    "    #pd.concat([filtered,current_station[mask]],axis=1)\n",
    "    #filtered.concat(current_station[mask],ignore_index=True)\n",
    "    filtered_entry = filtered_entry.append(current_station[mask])\n",
    "    \n",
    "# filter for EXIT outliers\n",
    "filtered = pd.DataFrame(columns=flux.columns)\n",
    "\n",
    "# loop through stations\n",
    "for station in filtered_entry.STATION.unique():\n",
    "\n",
    "    current_station = filtered_entry[filtered_entry['STATION']==station]\n",
    "\n",
    "    # quantile values for current station\n",
    "    Q1 = current_station.EXIT_FLUX.quantile(0.25)\n",
    "    Q3 = current_station.EXIT_FLUX.quantile(0.75)\n",
    "    IQR = Q3 - Q1\n",
    "\n",
    "    # Filtering Values between Q1-1.5IQR and Q3+1.5IQR\n",
    "    mask = current_station.EXIT_FLUX.between(Q1-IQR*factor, Q3+IQR*factor, inclusive=True)\n",
    "    \n",
    "    #pd.concat([filtered,current_station[mask]],axis=1)\n",
    "    #filtered.concat(current_station[mask],ignore_index=True)\n",
    "    filtered = filtered.append(current_station[mask])"
   ]
  },
  {
   "cell_type": "code",
   "execution_count": 4,
   "metadata": {},
   "outputs": [],
   "source": [
    "with open('./data/filtered_data.pkl', 'wb') as picklefile:\n",
    "    pkl.dump(filtered, picklefile)"
   ]
  },
  {
   "cell_type": "code",
   "execution_count": 1,
   "metadata": {},
   "outputs": [
    {
     "ename": "NameError",
     "evalue": "name 'df' is not defined",
     "output_type": "error",
     "traceback": [
      "\u001b[0;31m---------------------------------------------------------------------------\u001b[0m",
      "\u001b[0;31mNameError\u001b[0m                                 Traceback (most recent call last)",
      "\u001b[0;32m<ipython-input-1-c42a15b2c7cf>\u001b[0m in \u001b[0;36m<module>\u001b[0;34m()\u001b[0m\n\u001b[0;32m----> 1\u001b[0;31m \u001b[0mdf\u001b[0m\u001b[0;34m.\u001b[0m\u001b[0mhead\u001b[0m\u001b[0;34m(\u001b[0m\u001b[0;34m)\u001b[0m\u001b[0;34m\u001b[0m\u001b[0m\n\u001b[0m",
      "\u001b[0;31mNameError\u001b[0m: name 'df' is not defined"
     ]
    }
   ],
   "source": []
  },
  {
   "cell_type": "code",
   "execution_count": null,
   "metadata": {},
   "outputs": [],
   "source": []
  }
 ],
 "metadata": {
  "kernelspec": {
   "display_name": "Python 3",
   "language": "python",
   "name": "python3"
  },
  "language_info": {
   "codemirror_mode": {
    "name": "ipython",
    "version": 3
   },
   "file_extension": ".py",
   "mimetype": "text/x-python",
   "name": "python",
   "nbconvert_exporter": "python",
   "pygments_lexer": "ipython3",
   "version": "3.6.5"
  }
 },
 "nbformat": 4,
 "nbformat_minor": 2
}
